{
 "cells": [
  {
   "cell_type": "markdown",
   "metadata": {},
   "source": [
    "#  MultiDimensional Scans"
   ]
  },
  {
   "cell_type": "markdown",
   "metadata": {},
   "source": [
    "Here we will create a 2D confidence interval for kV vs kF.\n",
    "\n",
    "First, make sure we have the input Higgs to gamma gamma and H tau tau workspaces available:"
   ]
  },
  {
   "cell_type": "code",
   "execution_count": 1,
   "metadata": {},
   "outputs": [
    {
     "name": "stdout",
     "output_type": "stream",
     "text": [
      "/home/dsperka/CombineTutorial/CMSSW_8_1_0/src/HiggsAnalysis/CombinedLimit/combine_tutorials_2018/physics_models\n",
      "#!/bin/bash\n",
      "if [ -f ../combine_intro/hgg.inputbkgdata_8TeV_MVA.root ]\n",
      "then \n",
      "  ln -s ../combine_intro/hgg.inputbkgdata_8TeV_MVA.root hgg.inputbkgdata_8TeV_MVA.root\n",
      "else\n",
      "  wget https://dsperka.web.cern.ch/dsperka/hgg.inputbkgdata_8TeV_MVA.root\n",
      "fi\n",
      "\n",
      "wget https://dsperka.web.cern.ch/dsperka/htt_mt.input_8TeV.root"
     ]
    },
    {
     "name": "stderr",
     "output_type": "stream",
     "text": [
      "ln: failed to create symbolic link 'hgg.inputbkgdata_8TeV_MVA.root': File exists\n",
      "--2018-10-21 18:01:05--  https://dsperka.web.cern.ch/dsperka/htt_mt.input_8TeV.root\n",
      "Resolving dsperka.web.cern.ch (dsperka.web.cern.ch)... 188.184.65.148, 2001:1458:201:a4::100:18e\n",
      "Connecting to dsperka.web.cern.ch (dsperka.web.cern.ch)|188.184.65.148|:443... connected.\n",
      "HTTP request sent, awaiting response... 200 OK\n",
      "Length: 9295682 (8.9M) [text/plain]\n",
      "Saving to: 'htt_mt.input_8TeV.root.3'\n",
      "\n",
      "     0K .......... .......... .......... .......... ..........  0%  153K 59s\n",
      "    50K .......... .......... .......... .......... ..........  1%  457K 39s\n",
      "   100K .......... .......... .......... .......... ..........  1%  457K 32s\n",
      "   150K .......... .......... .......... .......... ..........  2%  459K 29s\n",
      "   200K .......... .......... .......... .......... ..........  2%  458K 27s\n",
      "   250K .......... .......... .......... .......... ..........  3%  461K 26s\n",
      "   300K .......... .......... .......... .......... ..........  3% 48.2M 22s\n",
      "   350K .......... .......... .......... .......... ..........  4%  461K 21s\n",
      "   400K .......... .......... .......... .......... ..........  4% 46.0M 19s\n",
      "   450K .......... .......... .......... .......... ..........  5%  463K 19s\n",
      "   500K .......... .......... .......... .......... ..........  6% 55.4M 17s\n",
      "   550K .......... .......... .......... .......... ..........  6%  467K 17s\n",
      "   600K .......... .......... .......... .......... ..........  7% 38.4M 16s\n",
      "   650K .......... .......... .......... .......... ..........  7% 59.8M 14s\n",
      "   700K .......... .......... .......... .......... ..........  8% 64.0M 13s\n",
      "   750K .......... .......... .......... .......... ..........  8%  468K 14s\n",
      "   800K .......... .......... .......... .......... ..........  9% 42.4M 13s\n",
      "   850K .......... .......... .......... .......... ..........  9% 63.4M 12s\n",
      "   900K .......... .......... .......... .......... .......... 10%  469K 12s\n",
      "   950K .......... .......... .......... .......... .......... 11% 56.1M 11s\n",
      "  1000K .......... .......... .......... .......... .......... 11% 53.2M 11s\n",
      "  1050K .......... .......... .......... .......... .......... 12% 59.3M 10s\n",
      "  1100K .......... .......... .......... .......... .......... 12% 64.9M 10s\n",
      "  1150K .......... .......... .......... .......... .......... 13%  471K 10s\n",
      "  1200K .......... .......... .......... .......... .......... 13% 40.7M 10s\n",
      "  1250K .......... .......... .......... .......... .......... 14% 56.7M 9s\n",
      "  1300K .......... .......... .......... .......... .......... 14% 64.1M 9s\n",
      "  1350K .......... .......... .......... .......... .......... 15% 65.2M 8s\n",
      "  1400K .......... .......... .......... .......... .......... 15%  474K 9s\n",
      "  1450K .......... .......... .......... .......... .......... 16% 53.4M 8s\n",
      "  1500K .......... .......... .......... .......... .......... 17% 52.7M 8s\n",
      "  1550K .......... .......... .......... .......... .......... 17% 64.7M 8s\n",
      "  1600K .......... .......... .......... .......... .......... 18% 50.8M 7s\n",
      "  1650K .......... .......... .......... .......... .......... 18% 65.7M 7s\n",
      "  1700K .......... .......... .......... .......... .......... 19%  478K 7s\n",
      "  1750K .......... .......... .......... .......... .......... 19% 49.7M 7s\n",
      "  1800K .......... .......... .......... .......... .......... 20% 49.3M 7s\n",
      "  1850K .......... .......... .......... .......... .......... 20% 54.8M 7s\n",
      "  1900K .......... .......... .......... .......... .......... 21% 65.5M 6s\n",
      "  1950K .......... .......... .......... .......... .......... 22% 63.1M 6s\n",
      "  2000K .......... .......... .......... .......... .......... 22% 50.3M 6s\n",
      "  2050K .......... .......... .......... .......... .......... 23%  483K 6s\n",
      "  2100K .......... .......... .......... .......... .......... 23% 51.8M 6s\n",
      "  2150K .......... .......... .......... .......... .......... 24% 51.3M 6s\n",
      "  2200K .......... .......... .......... .......... .......... 24% 53.7M 6s\n",
      "  2250K .......... .......... .......... .......... .......... 25% 58.2M 5s\n",
      "  2300K .......... .......... .......... .......... .......... 25% 61.4M 5s\n",
      "  2350K .......... .......... .......... .......... .......... 26% 64.4M 5s\n",
      "  2400K .......... .......... .......... .......... .......... 26% 50.5M 5s\n",
      "  2450K .......... .......... .......... .......... .......... 27% 64.3M 5s\n",
      "  2500K .......... .......... .......... .......... .......... 28%  487K 5s\n",
      "  2550K .......... .......... .......... .......... .......... 28% 48.7M 5s\n",
      "  2600K .......... .......... .......... .......... .......... 29% 52.3M 5s\n",
      "  2650K .......... .......... .......... .......... .......... 29% 52.3M 5s\n",
      "  2700K .......... .......... .......... .......... .......... 30% 54.0M 5s\n",
      "  2750K .......... .......... .......... .......... .......... 30% 65.3M 4s\n",
      "  2800K .......... .......... .......... .......... .......... 31% 49.8M 4s\n",
      "  2850K .......... .......... .......... .......... .......... 31% 65.1M 4s\n",
      "  2900K .......... .......... .......... .......... .......... 32% 66.0M 4s\n",
      "  2950K .......... .......... .......... .......... .......... 33% 65.2M 4s\n",
      "  3000K .......... .......... .......... .......... .......... 33%  492K 4s\n",
      "  3050K .......... .......... .......... .......... .......... 34% 55.5M 4s\n",
      "  3100K .......... .......... .......... .......... .......... 34% 51.7M 4s\n",
      "  3150K .......... .......... .......... .......... .......... 35% 51.4M 4s\n",
      "  3200K .......... .......... .......... .......... .......... 35% 42.9M 4s\n",
      "  3250K .......... .......... .......... .......... .......... 36% 57.4M 4s\n",
      "  3300K .......... .......... .......... .......... .......... 36% 65.9M 4s\n",
      "  3350K .......... .......... .......... .......... .......... 37% 65.2M 3s\n",
      "  3400K .......... .......... .......... .......... .......... 38% 63.0M 3s\n",
      "  3450K .......... .......... .......... .......... .......... 38% 65.2M 3s\n",
      "  3500K .......... .......... .......... .......... .......... 39% 66.1M 3s\n",
      "  3550K .......... .......... .......... .......... .......... 39%  499K 3s\n",
      "  3600K .......... .......... .......... .......... .......... 40% 43.7M 3s\n",
      "  3650K .......... .......... .......... .......... .......... 40% 53.4M 3s\n",
      "  3700K .......... .......... .......... .......... .......... 41% 50.5M 3s\n",
      "  3750K .......... .......... .......... .......... .......... 41% 52.8M 3s\n",
      "  3800K .......... .......... .......... .......... .......... 42% 51.3M 3s\n",
      "  3850K .......... .......... .......... .......... .......... 42% 54.5M 3s\n",
      "  3900K .......... .......... .......... .......... .......... 43% 65.1M 3s\n",
      "  3950K .......... .......... .......... .......... .......... 44% 64.9M 3s\n",
      "  4000K .......... .......... .......... .......... .......... 44% 51.1M 3s\n",
      "  4050K .......... .......... .......... .......... .......... 45% 66.0M 3s\n",
      "  4100K .......... .......... .......... .......... .......... 45% 65.2M 3s\n",
      "  4150K .......... .......... .......... .......... .......... 46% 65.7M 3s\n",
      "  4200K .......... .......... .......... .......... .......... 46%  509K 3s\n",
      "  4250K .......... .......... .......... .......... .......... 47% 46.9M 3s\n",
      "  4300K .......... .......... .......... .......... .......... 47% 56.3M 2s\n",
      "  4350K .......... .......... .......... .......... .......... 48% 50.0M 2s\n",
      "  4400K .......... .......... .......... .......... .......... 49% 43.8M 2s\n",
      "  4450K .......... .......... .......... .......... .......... 49% 51.4M 2s\n",
      "  4500K .......... .......... .......... .......... .......... 50% 52.6M 2s\n",
      "  4550K .......... .......... .......... .......... .......... 50% 50.1M 2s\n",
      "  4600K .......... .......... .......... .......... .......... 51% 60.6M 2s\n",
      "  4650K .......... .......... .......... .......... .......... 51% 65.3M 2s\n",
      "  4700K .......... .......... .......... .......... .......... 52% 65.0M 2s\n",
      "  4750K .......... .......... .......... .......... .......... 52% 65.4M 2s\n",
      "  4800K .......... .......... .......... .......... .......... 53% 50.9M 2s\n",
      "  4850K .......... .......... .......... .......... .......... 53% 65.0M 2s\n",
      "  4900K .......... .......... .......... .......... .......... 54% 65.1M 2s\n",
      "  4950K .......... .......... .......... .......... .......... 55% 65.6M 2s\n",
      "  5000K .......... .......... .......... .......... .......... 55%  520K 2s\n",
      "  5050K .......... .......... .......... .......... .......... 56% 51.5M 2s\n",
      "  5100K .......... .......... .......... .......... .......... 56% 52.0M 2s\n",
      "  5150K .......... .......... .......... .......... .......... 57% 53.1M 2s\n",
      "  5200K .......... .......... .......... .......... .......... 57% 40.9M 2s\n",
      "  5250K .......... .......... .......... .......... .......... 58% 53.3M 2s\n",
      "  5300K .......... .......... .......... .......... .......... 58% 56.3M 2s\n",
      "  5350K .......... .......... .......... .......... .......... 59% 52.5M 2s\n",
      "  5400K .......... .......... .......... .......... .......... 60% 50.7M 2s\n",
      "  5450K .......... .......... .......... .......... .......... 60% 64.8M 2s\n",
      "  5500K .......... .......... .......... .......... .......... 61% 61.8M 2s\n",
      "  5550K .......... .......... .......... .......... .......... 61% 64.9M 1s\n",
      "  5600K .......... .......... .......... .......... .......... 62% 50.9M 1s\n",
      "  5650K .......... .......... .......... .......... .......... 62% 65.0M 1s\n",
      "  5700K .......... .......... .......... .......... .......... 63% 64.8M 1s\n",
      "  5750K .......... .......... .......... .......... .......... 63% 65.0M 1s\n",
      "  5800K .......... .......... .......... .......... .......... 64% 62.4M 1s\n",
      "  5850K .......... .......... .......... .......... .......... 64% 65.5M 1s\n",
      "  5900K .......... .......... .......... .......... .......... 65%  531K 1s\n",
      "  5950K .......... .......... .......... .......... .......... 66% 49.0M 1s\n",
      "  6000K .......... .......... .......... .......... .......... 66% 40.9M 1s\n",
      "  6050K .......... .......... .......... .......... .......... 67% 53.6M 1s\n",
      "  6100K .......... .......... .......... .......... .......... 67% 50.1M 1s\n",
      "  6150K .......... .......... .......... .......... .......... 68% 49.8M 1s\n",
      "  6200K .......... .......... .......... .......... .......... 68% 41.2M 1s\n",
      "  6250K .......... .......... .......... .......... .......... 69% 48.6M 1s\n",
      "  6300K .......... .......... .......... .......... .......... 69% 50.6M 1s\n",
      "  6350K .......... .......... .......... .......... .......... 70% 62.0M 1s\n",
      "  6400K .......... .......... .......... .......... .......... 71% 50.2M 1s\n",
      "  6450K .......... .......... .......... .......... .......... 71% 65.6M 1s\n",
      "  6500K .......... .......... .......... .......... .......... 72% 62.6M 1s\n",
      "  6550K .......... .......... .......... .......... .......... 72% 65.0M 1s\n",
      "  6600K .......... .......... .......... .......... .......... 73% 63.4M 1s\n",
      "  6650K .......... .......... .......... .......... .......... 73% 64.7M 1s\n",
      "  6700K .......... .......... .......... .......... .......... 74% 64.2M 1s\n",
      "  6750K .......... .......... .......... .......... .......... 74% 63.9M 1s\n",
      "  6800K .......... .......... .......... .......... .......... 75% 49.9M 1s\n",
      "  6850K .......... .......... .......... .......... .......... 76% 65.0M 1s\n",
      "  6900K .......... .......... .......... .......... .......... 76%  543K 1s\n",
      "  6950K .......... .......... .......... .......... .......... 77% 56.2M 1s\n",
      "  7000K .......... .......... .......... .......... .......... 77% 51.2M 1s\n",
      "  7050K .......... .......... .......... .......... .......... 78% 52.5M 1s\n",
      "  7100K .......... .......... .......... .......... .......... 78% 53.2M 1s\n",
      "  7150K .......... .......... .......... .......... .......... 79% 56.5M 1s\n",
      "  7200K .......... .......... .......... .......... .......... 79% 39.1M 1s\n",
      "  7250K .......... .......... .......... .......... .......... 80% 53.0M 1s\n",
      "  7300K .......... .......... .......... .......... .......... 80% 53.2M 1s\n",
      "  7350K .......... .......... .......... .......... .......... 81% 51.8M 1s\n",
      "  7400K .......... .......... .......... .......... .......... 82% 47.0M 1s\n",
      "  7450K .......... .......... .......... .......... .......... 82% 65.3M 1s\n",
      "  7500K .......... .......... .......... .......... .......... 83% 59.3M 1s\n",
      "  7550K .......... .......... .......... .......... .......... 83% 65.6M 1s\n",
      "  7600K .......... .......... .......... .......... .......... 84% 50.8M 0s\n",
      "  7650K .......... .......... .......... .......... .......... 84% 64.6M 0s\n",
      "  7700K .......... .......... .......... .......... .......... 85% 65.0M 0s\n",
      "  7750K .......... .......... .......... .......... .......... 85% 65.4M 0s\n",
      "  7800K .......... .......... .......... .......... .......... 86% 62.5M 0s\n",
      "  7850K .......... .......... .......... .......... .......... 87% 64.0M 0s\n",
      "  7900K .......... .......... .......... .......... .......... 87% 64.5M 0s\n",
      "  7950K .......... .......... .......... .......... .......... 88% 64.7M 0s\n",
      "  8000K .......... .......... .......... .......... .......... 88% 50.8M 0s\n",
      "  8050K .......... .......... .......... .......... .......... 89%  556K 0s\n",
      "  8100K .......... .......... .......... .......... .......... 89% 55.2M 0s\n",
      "  8150K .......... .......... .......... .......... .......... 90% 53.7M 0s\n",
      "  8200K .......... .......... .......... .......... .......... 90% 55.0M 0s\n",
      "  8250K .......... .......... .......... .......... .......... 91% 50.2M 0s\n",
      "  8300K .......... .......... .......... .......... .......... 91% 54.4M 0s\n",
      "  8350K .......... .......... .......... .......... .......... 92% 55.4M 0s\n",
      "  8400K .......... .......... .......... .......... .......... 93% 45.2M 0s\n",
      "  8450K .......... .......... .......... .......... .......... 93% 54.4M 0s\n",
      "  8500K .......... .......... .......... .......... .......... 94% 48.7M 0s\n",
      "  8550K .......... .......... .......... .......... .......... 94% 55.4M 0s\n",
      "  8600K .......... .......... .......... .......... .......... 95% 62.3M 0s\n",
      "  8650K .......... .......... .......... .......... .......... 95% 66.1M 0s\n",
      "  8700K .......... .......... .......... .......... .......... 96% 65.5M 0s\n",
      "  8750K .......... .......... .......... .......... .......... 96% 65.0M 0s\n",
      "  8800K .......... .......... .......... .......... .......... 97% 50.3M 0s\n",
      "  8850K .......... .......... .......... .......... .......... 98% 64.9M 0s\n",
      "  8900K .......... .......... .......... .......... .......... 98% 65.8M 0s\n",
      "  8950K .......... .......... .......... .......... .......... 99% 64.8M 0s\n",
      "  9000K .......... .......... .......... .......... .......... 99% 61.7M 0s\n",
      "  9050K .......... .......... .......                         100% 74.8M=2.7s\n",
      "\n",
      "2018-10-21 18:01:09 (3.23 MB/s) - 'htt_mt.input_8TeV.root.3' saved [9295682/9295682]\n",
      "\n"
     ]
    }
   ],
   "source": [
    "%%bash\n",
    "pwd\n",
    "cat get_ws.sh\n",
    "./get_ws.sh"
   ]
  },
  {
   "cell_type": "code",
   "execution_count": 8,
   "metadata": {},
   "outputs": [],
   "source": [
    "%%bash\n",
    "HGG=\"hgg_8TeV=hgg_8TeV_MVA_cat0145.txt\"\n",
    "combineCards.py $HGG > comb_hgg.txt"
   ]
  },
  {
   "cell_type": "code",
   "execution_count": 4,
   "metadata": {},
   "outputs": [],
   "source": [
    "%%bash\n",
    "HTT=\" htt_0_8TeV=htt_mt_0_8TeV.txt htt_1_8TeV=htt_mt_1_8TeV.txt htt_2_8TeV=htt_mt_2_8TeV.txt htt_3_8TeV=htt_mt_3_8TeV.txt htt_5_8TeV=htt_mt_5_8TeV.txt\"\n",
    "combineCards.py $HTT > comb_htt.txt"
   ]
  },
  {
   "cell_type": "code",
   "execution_count": 10,
   "metadata": {},
   "outputs": [],
   "source": [
    "%%bash\n",
    "HGG=\"hgg_8TeV=hgg_8TeV_MVA_cat0145.txt\"\n",
    "HTT=\" htt_0_8TeV=htt_mt_0_8TeV.txt htt_1_8TeV=htt_mt_1_8TeV.txt htt_2_8TeV=htt_mt_2_8TeV.txt htt_3_8TeV=htt_mt_3_8TeV.txt htt_5_8TeV=htt_mt_5_8TeV.txt\"\n",
    "combineCards.py $HGG $HTT > comb_ggtt.txt"
   ]
  },
  {
   "cell_type": "code",
   "execution_count": 26,
   "metadata": {},
   "outputs": [
    {
     "name": "stdout",
     "output_type": "stream",
     "text": [
      "Will add bbH to signals in the following Higgs boson decay modes: \n",
      "BR uncertainties in partial widths: False \n",
      "RooAddition::c7_SMBRs[ SM_BR_hzz + SM_BR_hww + SM_BR_htt + SM_BR_hmm + SM_BR_hcc + SM_BR_hbb + SM_BR_hss + SM_BR_hgluglu + SM_BR_hgg + SM_BR_hzg ] = 1.00009\n",
      "[LHC-HCG Kappas] c7_XSBRscal_ZH_hgg_8TeV ZH hgg 8TeV : RooFormulaVar::c7_XSBRscal_ZH_hgg_8TeV[ actualVars=(kVkV_gamgam,c7_BRscal_hgg) formula=\"@0*@0*@1\" ] = 1\n",
      " [LHC-HCG Kappas] c7_XSBRscal_qqH_hgg_8TeV qqH hgg 8TeV : RooFormulaVar::c7_XSBRscal_qqH_hgg_8TeV[ actualVars=(kVkV_gamgam,c7_BRscal_hgg) formula=\"@0*@0*@1\" ] = 1\n",
      " [LHC-HCG Kappas] c7_XSBRscal_WH_hgg_8TeV WH hgg 8TeV : RooFormulaVar::c7_XSBRscal_WH_hgg_8TeV[ actualVars=(kVkV_gamgam,c7_BRscal_hgg) formula=\"@0*@0*@1\" ] = 1\n",
      " [LHC-HCG Kappas] c7_XSBRscal_ttH_hgg_8TeV ttH hgg 8TeV : RooFormulaVar::c7_XSBRscal_ttH_hgg_8TeV[ actualVars=(kFkF_gamgam,c7_BRscal_hgg) formula=\"@0*@0*@1\" ] = 1\n",
      " [LHC-HCG Kappas] c7_XSBRscal_ggH_hgg_8TeV ggH hgg 8TeV : RooFormulaVar::c7_XSBRscal_ggH_hgg_8TeV[ actualVars=(kFkF_gamgam,c7_BRscal_hgg) formula=\"@0*@0*@1\" ] = 1\n",
      "\n"
     ]
    }
   ],
   "source": [
    "%%bash\n",
    "text2workspace.py -m 125 -P HiggsAnalysis.CombinedLimit.HiggsCouplings:cVcF --PO BRU=0 comb_hgg.txt -o comb_hgg_kvkf.root"
   ]
  },
  {
   "cell_type": "code",
   "execution_count": 31,
   "metadata": {},
   "outputs": [
    {
     "name": "stdout",
     "output_type": "stream",
     "text": [
      " <<< Combine >>> \n",
      ">>> including systematics\n",
      "   Options for Robust Minimizer :: \n",
      "        Tolerance  0.1\n",
      "        Strategy   0\n",
      "        Type,Algo  Minuit2,Migrad\n",
      ">>> method used is MultiDimFit\n",
      ">>> random number generator seed is 123456\n",
      "Set Range of Parameter kappa_V To : (0,5)\n",
      "Set Range of Parameter kappa_F To : (0,5)\n",
      "Computing results starting from observation (a-posteriori)\n",
      "Error: closed range without finding crossing.\n",
      "\n",
      " --- MultiDimFit ---\n",
      "best fit parameter values and profile-likelihood uncertainties: \n",
      "   kappa_V :    +1.233   -0.534/+0.754 (68%)\n",
      " Warning - No valid high-error found, will report difference to maximum of range for : kappa_F\n",
      "   kappa_F :    +2.217   -1.728/+2.783 (68%)\n",
      "Done in 0.17 min (cpu), 0.17 min (real)\n"
     ]
    },
    {
     "name": "stderr",
     "output_type": "stream",
     "text": [
      "ModelConfig 'ModelConfig' defines more than one parameter of interest. This is not supported in some statistical methods.\n"
     ]
    }
   ],
   "source": [
    "%%bash\n",
    "combine -M MultiDimFit -m 125 -n hgg --setParameterRanges kappa_V=0.0,5.0:kappa_F=0.0,5.0 comb_hgg_kvkf.root --algo=singles --robustFit=1"
   ]
  },
  {
   "cell_type": "code",
   "execution_count": 30,
   "metadata": {},
   "outputs": [
    {
     "name": "stdout",
     "output_type": "stream",
     "text": [
      "Will add bbH to signals in the following Higgs boson decay modes: \n",
      "BR uncertainties in partial widths: False \n",
      "RooAddition::c7_SMBRs[ SM_BR_hzz + SM_BR_hww + SM_BR_htt + SM_BR_hmm + SM_BR_hcc + SM_BR_hbb + SM_BR_hss + SM_BR_hgluglu + SM_BR_hgg + SM_BR_hzg ] = 1.00009\n",
      "[LHC-HCG Kappas] c7_XSBRscal_VH_htt_8TeV VH htt 8TeV : RooFormulaVar::c7_XSBRscal_VH_htt_8TeV[ actualVars=(kVkV_tautau,c7_BRscal_htt) formula=\"@0*@0*@1\" ] = 1\n",
      " [LHC-HCG Kappas] c7_XSBRscal_qqH_htt_8TeV qqH htt 8TeV : RooFormulaVar::c7_XSBRscal_qqH_htt_8TeV[ actualVars=(kVkV_tautau,c7_BRscal_htt) formula=\"@0*@0*@1\" ] = 1\n",
      " [LHC-HCG Kappas] c7_XSBRscal_ggH_htt_8TeV ggH htt 8TeV : RooFormulaVar::c7_XSBRscal_ggH_htt_8TeV[ actualVars=(kFkF_tautau,c7_BRscal_htt) formula=\"@0*@0*@1\" ] = 1\n",
      "\n"
     ]
    },
    {
     "name": "stderr",
     "output_type": "stream",
     "text": [
      "Warning: Bin htt_0_8TeV has no signal processes contributing to it\n",
      "Warning: Bin htt_1_8TeV has no signal processes contributing to it\n"
     ]
    }
   ],
   "source": [
    "%%bash\n",
    "text2workspace.py -m 125 -P HiggsAnalysis.CombinedLimit.HiggsCouplings:cVcF --PO BRU=0 comb_htt.txt -o comb_htt_kvkf.root"
   ]
  },
  {
   "cell_type": "code",
   "execution_count": 33,
   "metadata": {},
   "outputs": [
    {
     "name": "stdout",
     "output_type": "stream",
     "text": [
      " <<< Combine >>> \n",
      ">>> including systematics\n",
      "   Options for Robust Minimizer :: \n",
      "        Tolerance  0.1\n",
      "        Strategy   0\n",
      "        Type,Algo  Minuit2,Migrad\n",
      ">>> method used is MultiDimFit\n",
      ">>> random number generator seed is 123456\n",
      "Set Range of Parameter kappa_V To : (0,5)\n",
      "Set Range of Parameter kappa_F To : (0,5)\n",
      "Computing results starting from observation (a-posteriori)\n",
      "Error: closed range without finding crossing.\n",
      "\n",
      " --- MultiDimFit ---\n",
      "best fit parameter values and profile-likelihood uncertainties: \n",
      " Warning - No valid high-error found, will report difference to maximum of range for : kappa_V\n",
      "   kappa_V :    +3.675   -2.650/+1.325 (68%)\n",
      "   kappa_F :    +0.825   -0.266/+0.350 (68%)\n",
      "Done in 0.02 min (cpu), 0.02 min (real)\n"
     ]
    },
    {
     "name": "stderr",
     "output_type": "stream",
     "text": [
      "ModelConfig 'ModelConfig' defines more than one parameter of interest. This is not supported in some statistical methods.\n"
     ]
    }
   ],
   "source": [
    "%%bash\n",
    "combine -M MultiDimFit -m 125 -n htt --setParameterRanges kappa_V=0.0,5.0:kappa_F=0.0,5.0 comb_htt_kvkf.root --algo=singles --robustFit=1"
   ]
  },
  {
   "cell_type": "code",
   "execution_count": 35,
   "metadata": {},
   "outputs": [
    {
     "name": "stdout",
     "output_type": "stream",
     "text": [
      "Will add bbH to signals in the following Higgs boson decay modes: \n",
      "BR uncertainties in partial widths: False \n",
      "RooAddition::c7_SMBRs[ SM_BR_hzz + SM_BR_hww + SM_BR_htt + SM_BR_hmm + SM_BR_hcc + SM_BR_hbb + SM_BR_hss + SM_BR_hgluglu + SM_BR_hgg + SM_BR_hzg ] = 1.00009\n",
      "[LHC-HCG Kappas] c7_XSBRscal_ZH_hgg_8TeV ZH hgg 8TeV : RooFormulaVar::c7_XSBRscal_ZH_hgg_8TeV[ actualVars=(kVkV_gamgam,c7_BRscal_hgg) formula=\"@0*@0*@1\" ] = 1\n",
      " [LHC-HCG Kappas] c7_XSBRscal_qqH_hgg_8TeV qqH hgg 8TeV : RooFormulaVar::c7_XSBRscal_qqH_hgg_8TeV[ actualVars=(kVkV_gamgam,c7_BRscal_hgg) formula=\"@0*@0*@1\" ] = 1\n",
      " [LHC-HCG Kappas] c7_XSBRscal_WH_hgg_8TeV WH hgg 8TeV : RooFormulaVar::c7_XSBRscal_WH_hgg_8TeV[ actualVars=(kVkV_gamgam,c7_BRscal_hgg) formula=\"@0*@0*@1\" ] = 1\n",
      " [LHC-HCG Kappas] c7_XSBRscal_ttH_hgg_8TeV ttH hgg 8TeV : RooFormulaVar::c7_XSBRscal_ttH_hgg_8TeV[ actualVars=(kFkF_gamgam,c7_BRscal_hgg) formula=\"@0*@0*@1\" ] = 1\n",
      " [LHC-HCG Kappas] c7_XSBRscal_ggH_hgg_8TeV ggH hgg 8TeV : RooFormulaVar::c7_XSBRscal_ggH_hgg_8TeV[ actualVars=(kFkF_gamgam,c7_BRscal_hgg) formula=\"@0*@0*@1\" ] = 1\n",
      " [LHC-HCG Kappas] c7_XSBRscal_VH_htt_8TeV VH htt 8TeV : RooFormulaVar::c7_XSBRscal_VH_htt_8TeV[ actualVars=(kVkV_tautau,c7_BRscal_htt) formula=\"@0*@0*@1\" ] = 1\n",
      " [LHC-HCG Kappas] c7_XSBRscal_qqH_htt_8TeV qqH htt 8TeV : RooFormulaVar::c7_XSBRscal_qqH_htt_8TeV[ actualVars=(kVkV_tautau,c7_BRscal_htt) formula=\"@0*@0*@1\" ] = 1\n",
      " [LHC-HCG Kappas] c7_XSBRscal_ggH_htt_8TeV ggH htt 8TeV : RooFormulaVar::c7_XSBRscal_ggH_htt_8TeV[ actualVars=(kFkF_tautau,c7_BRscal_htt) formula=\"@0*@0*@1\" ] = 1\n",
      "\n"
     ]
    },
    {
     "name": "stderr",
     "output_type": "stream",
     "text": [
      "Warning: Bin htt_0_8TeV has no signal processes contributing to it\n",
      "Warning: Bin htt_1_8TeV has no signal processes contributing to it\n"
     ]
    }
   ],
   "source": [
    "%%bash\n",
    "text2workspace.py -m 125 -P HiggsAnalysis.CombinedLimit.HiggsCouplings:cVcF --PO BRU=0 comb_ggtt.txt -o comb_ggtt_kvkf.root"
   ]
  },
  {
   "cell_type": "code",
   "execution_count": 36,
   "metadata": {},
   "outputs": [
    {
     "name": "stdout",
     "output_type": "stream",
     "text": [
      " <<< Combine >>> \n",
      ">>> including systematics\n",
      "   Options for Robust Minimizer :: \n",
      "        Tolerance  0.1\n",
      "        Strategy   0\n",
      "        Type,Algo  Minuit2,Migrad\n",
      ">>> method used is MultiDimFit\n",
      ">>> random number generator seed is 123456\n",
      "Set Range of Parameter kappa_V To : (0,5)\n",
      "Set Range of Parameter kappa_F To : (0,5)\n",
      "Computing results starting from observation (a-posteriori)\n",
      "\n",
      " --- MultiDimFit ---\n",
      "best fit parameter values and profile-likelihood uncertainties: \n",
      "   kappa_V :    +0.948   -0.191/+0.168 (68%)\n",
      "   kappa_F :    +0.989   -0.333/+0.286 (68%)\n",
      "Done in 0.29 min (cpu), 0.29 min (real)\n"
     ]
    },
    {
     "name": "stderr",
     "output_type": "stream",
     "text": [
      "ModelConfig 'ModelConfig' defines more than one parameter of interest. This is not supported in some statistical methods.\n"
     ]
    }
   ],
   "source": [
    "%%bash\n",
    "combine -M MultiDimFit -m 125 -n ggtt --setParameterRanges kappa_V=0.0,5.0:kappa_F=0.0,5.0 comb_ggtt_kvkf.root --algo=singles --robustFit=1"
   ]
  },
  {
   "cell_type": "code",
   "execution_count": 80,
   "metadata": {},
   "outputs": [],
   "source": [
    "%%bash\n",
    "combine -n KvKfgrid_gg -M MultiDimFit -m 125 --setParameterRanges kappa_V=0.0,2.0:kappa_F=0.0,5.0 comb_hgg_kvkf.root --algo=grid --points=1000 >& grid_hgg.log &\n",
    "combine -n KvKfgrid_tt -M MultiDimFit -m 125 --setParameterRanges kappa_V=0.0,5.0:kappa_F=0.0,2.0 comb_htt_kvkf.root --algo=grid --points=1000 >& grid_htt.log &\n",
    "combine -n KvKfgrid_ggtt -M MultiDimFit -m 125 --setParameterRanges kappa_V=0.0,2.0:kappa_F=0.0,2.0 comb_ggtt_kvkf.root --algo=grid --points=1000 >& grid_ggtt.log &"
   ]
  },
  {
   "cell_type": "markdown",
   "metadata": {},
   "source": [
    "Now lets make a plot of the results:"
   ]
  },
  {
   "cell_type": "code",
   "execution_count": 81,
   "metadata": {},
   "outputs": [
    {
     "name": "stdout",
     "output_type": "stream",
     "text": [
      "{'tau': 'higgsCombineKvKfgrid_tt.MultiDimFit.mH125.root', 'gam': 'higgsCombineKvKfgrid_gg.MultiDimFit.mH125.root', 'comb': 'higgsCombineKvKfgrid_ggtt.MultiDimFit.mH125.root'}\n",
      "0.0 3.0\n",
      ">> Contour 0 has 1 Graphs\n",
      "\t Graph 0 has 113 points\n",
      ">> Contour 0 has 2 Graphs\n",
      "\t Graph 0 has 143 points\n",
      "\t Graph 1 has 69 points\n",
      ">> Contour 0 has 1 Graphs\n",
      "\t Graph 0 has 61 points\n",
      ">> Contour 0 has 1 Graphs\n",
      "\t Graph 0 has 113 points\n"
     ]
    },
    {
     "name": "stderr",
     "output_type": "stream",
     "text": [
      "Info in <TCanvas::Print>: pdf file ./plot_kVkF.pdf has been created\n",
      "Info in <TCanvas::Print>: png file ./plot_kVkF.png has been created\n",
      "Info in <TCanvas::SaveAs>: ROOT file ./plot_kVkF.root has been created\n",
      "Info in <TCanvas::SaveSource>: C++ Macro file: ./plot_kVkF.C has been generated\n"
     ]
    }
   ],
   "source": [
    "%%bash\n",
    "python plotKVKF.py -o plot_kVkF -f comb=higgsCombineKvKfgrid_ggtt.MultiDimFit.mH125.root,tau=higgsCombineKvKfgrid_tt.MultiDimFit.mH125.root,gam=higgsCombineKvKfgrid_gg.MultiDimFit.mH125.root --order=\"tau,gam,comb\" --legend-order=\"tau,gam,comb\" --layout 1 --x-range 0.0,5.0 --y-range 0.0,3.0 --axis-hist 200,0.0,5.0,200,0.0,3.0"
   ]
  },
  {
   "cell_type": "code",
   "execution_count": 82,
   "metadata": {},
   "outputs": [
    {
     "data": {
      "text/html": [
       "\n",
       "        <iframe\n",
       "            width=\"800\"\n",
       "            height=\"800\"\n",
       "            src=\"./plot_kVkF.pdf\"\n",
       "            frameborder=\"0\"\n",
       "            allowfullscreen\n",
       "        ></iframe>\n",
       "        "
      ],
      "text/plain": [
       "<IPython.lib.display.IFrame at 0x7f7c8c382ed0>"
      ]
     },
     "execution_count": 82,
     "metadata": {},
     "output_type": "execute_result"
    }
   ],
   "source": [
    "from IPython.display import IFrame\n",
    "IFrame(\"./plot_kVkF.pdf\", width=800, height=800)"
   ]
  },
  {
   "cell_type": "code",
   "execution_count": null,
   "metadata": {
    "collapsed": true
   },
   "outputs": [],
   "source": []
  }
 ],
 "metadata": {
  "kernelspec": {
   "display_name": "higgs-combine-tutorial",
   "language": "python",
   "name": "higgs-combine-tutorial"
  },
  "language_info": {
   "codemirror_mode": {
    "name": "ipython",
    "version": 2
   },
   "file_extension": ".py",
   "mimetype": "text/x-python",
   "name": "python",
   "nbconvert_exporter": "python",
   "pygments_lexer": "ipython2",
   "version": "2.7.11"
  }
 },
 "nbformat": 4,
 "nbformat_minor": 1
}
