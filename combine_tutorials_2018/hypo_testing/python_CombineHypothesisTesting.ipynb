{
 "cells": [
  {
   "cell_type": "markdown",
   "metadata": {},
   "source": [
    "In this datacard you will note that besides the usual SM signal contributions (ggH, qqH, ZH, and WH) there are two new processes (qqbarH_ALT and ggH_ALT) corresponding to the production of 2+m via quark-antiquark annihilation and gluon-fusion. "
   ]
  },
  {
   "cell_type": "code",
   "execution_count": 1,
   "metadata": {
    "scrolled": true
   },
   "outputs": [
    {
     "name": "stdout",
     "output_type": "stream",
     "text": [
      "imax 1 number of channels\r\n",
      "jmax * number of background\r\n",
      "kmax * number of nuisance parameters\r\n",
      "Observation 5747\r\n",
      "shapes *   *   jcp_hwwof_0j.input_8TeV.root  histo_$PROCESS histo_$PROCESS_$SYSTEMATIC\r\n",
      "shapes data_obs * jcp_hwwof_0j.input_8TeV.root  histo_Data \r\n",
      "bin j0of8tev j0of8tev j0of8tev j0of8tev j0of8tev j0of8tev j0of8tev j0of8tev j0of8tev j0of8tev j0of8tev j0of8tev j0of8tev j0of8tev j0of8tev j0of8tev j0of8tev\r\n",
      "process qqbarH_ALT ggH_ALT ZH WH qqH ggH qqWW ggWW VV Top Zjets WjetsE Wgamma Wg3l Ztt WjetsM qqWW2j\r\n",
      "process -5 -4 -3 -2 -1 0 1 2 3 4 5 6 7 8 9 10 11\r\n",
      "rate  129.869  146.427   1.728   5.833   3.033  234.884  3973.542  210.835  131.912  499.856   0.000  279.465  115.142  166.923  46.430  327.212   0.288\r\n"
     ]
    }
   ],
   "source": [
    "%%bash\n",
    "head jcp_hwwof_0j_8TeV.txt"
   ]
  },
  {
   "cell_type": "markdown",
   "metadata": {},
   "source": [
    "Let's look at the shape of the templates: "
   ]
  },
  {
   "cell_type": "code",
   "execution_count": 13,
   "metadata": {},
   "outputs": [
    {
     "name": "stderr",
     "output_type": "stream",
     "text": [
      "TCanvas::Constructor:0: RuntimeWarning: Deleting canvas with same name: c1\n"
     ]
    },
    {
     "data": {
      "image/png": "[encoded data removed]",
      "text/plain": [
       "<IPython.core.display.Image object>"
      ]
     },
     "metadata": {},
     "output_type": "display_data"
    }
   ],
   "source": [
    "import ROOT as r\n",
    "\n",
    "r.gStyle.SetOptTitle(0)\n",
    "r.gStyle.SetOptStat(0)\n",
    "\n",
    "f = r.TFile(\"jcp_hwwof_0j.input_8TeV.root\",\"READ\")\n",
    "\n",
    "c1 = r.TCanvas(\"c1\",\"c1\",800,800)\n",
    "c1.cd()\n",
    "\n",
    "histo_ggH = f.Get(\"histo_ggH\")\n",
    "histo_ggH.SetLineColor(2)\n",
    "histo_ggH.GetXaxis().SetRangeUser(-1.0,0.0)\n",
    "histo_ggH.DrawNormalized(\"hist\")\n",
    "\n",
    "histo_ggH_ALT = f.Get(\"histo_ggH_ALT\")\n",
    "histo_ggH_ALT.SetLineColor(4)\n",
    "histo_ggH_ALT.DrawNormalized(\"histsame\")\n",
    "\n",
    "histo_qqWW = f.Get(\"histo_qqWW\")\n",
    "histo_qqWW.SetLineColor(1)\n",
    "histo_qqWW.DrawNormalized(\"histsame\")\n",
    "\n",
    "\n",
    "legend = r.TLegend(0.6,0.8,0.95,0.95)\n",
    "legend.AddEntry(histo_qqWW,\"qqWW Bkg\")\n",
    "legend.AddEntry(histo_ggH,\"ggH SM\")\n",
    "legend.AddEntry(histo_ggH_ALT,\"ggH 2_{m}^{+}\")\n",
    "legend.Draw(\"same\")\n",
    "\n",
    "c1.Draw()"
   ]
  },
  {
   "cell_type": "markdown",
   "metadata": {},
   "source": [
    "You will notice multiple peaks. These correspond to an unrolled 2D histogram encoding the information of mT and mll as explained in https://twiki.cern.ch/twiki/bin/view/CMSPublic/Hig12042TWiki Basically, inside each peak mll is increasing, while different peaks correspond to larger mT values.  You can see that the signal shapes are also different, with different hypotheses having more or less signal in the different \"peaks\" (which correspond to different mT values).\n",
    "\n",
    "The hypothesis test is performed by constructing a nested model which has two relevant parameters:\n",
    "  *  fqq, the fraction qqbarH_ALT / (qqbarH_ALT + ggH_ALT)\n",
    "  *  x, the fraction 0+ / (0+ + 2+m) \n",
    "\n",
    "This means that signal model is defined as S(x,fqq) = r * [ x * S(0+) + (1-x) * S(2+m) ], with S(2+m) =  fqq * S(qq->2+m) + (1-fqq)*S(gg->qq2+m). The parameter r is the usual overall signal strength which is profiled so as to not use yield information in the hypotheses test. \n",
    "\n",
    "You can immediately see that this general (nested) signal model encodes several interesting limiting cases: \n",
    "Hypothesis                 r    x  fqq\n",
    "--------------------------------------\n",
    "SMH                        1    0  -\n",
    "0+                         free 0  -\n",
    "gg->2+m                    free 1  0\n",
    "qq->2+m                    free 1  1\n",
    "production indpendent 2+m  free 1  free\n",
    "\n",
    " Let's create the binary workspace encoding the physics model.  The PhysicsModel that encodes the signal model above is the twoHypothesisHiggs (https://github.com/cms-analysis/HiggsAnalysis-CombinedLimit/blob/master/python/HiggsJPC.py).  We would like each of the processes to be differentiated via fqq. This is done using a \"Physics Option\" called \"fqqIncluded\". The parameter fqq is fixed to 0 by default and does not float. "
   ]
  },
  {
   "cell_type": "code",
   "execution_count": 5,
   "metadata": {},
   "outputs": [
    {
     "name": "stdout",
     "output_type": "stream",
     "text": [
      "Will consider fqq = fraction of qqH in Alt signal (signal strength will be left floating)\n",
      "MH (not there before) will be assumed to be 125.7\n",
      "Process  ggH_ALT  will get scaled by  r_times_x_times_not_fqq\n",
      "Process  ZH  will get scaled by  r_times_not_x\n",
      "Process  qqH  will get scaled by  r_times_not_x\n",
      "Process  qqbarH_ALT  will get scaled by  r_times_x_times_fqq\n",
      "Process  WH  will get scaled by  r_times_not_x\n",
      "Process  ggH  will get scaled by  r_times_not_x\n",
      "Process  ggH_ALT  will get scaled by  r_times_x_times_not_fqq\n",
      "Process  ZH  will get scaled by  r_times_not_x\n",
      "Process  qqH  will get scaled by  r_times_not_x\n",
      "Process  qqbarH_ALT  will get scaled by  r_times_x_times_fqq\n",
      "Process  WH  will get scaled by  r_times_not_x\n",
      "Process  ggH  will get scaled by  r_times_not_x\n"
     ]
    }
   ],
   "source": [
    "%%bash\n",
    "text2workspace.py jcp_hwwof_0j_8TeV.txt -P HiggsAnalysis.CombinedLimit.HiggsJPC:twoHypothesisHiggs -m 125.7 --PO verbose --PO fqqIncluded -o jcp_hww.root"
   ]
  },
  {
   "cell_type": "markdown",
   "metadata": {},
   "source": [
    "Let's now generate toys datasets to determine the test statistic distributions under different assumptions. The way the TEV test statistic works is that the POI is set to 0 and 1. In the Physics Model the POI is set to x so the two hypothesis are x=0 (SMH) and x=1 (gg->2+m, remember fqq is fixed to 0). First we do pre-fit expected:"
   ]
  },
  {
   "cell_type": "code",
   "execution_count": 6,
   "metadata": {},
   "outputs": [
    {
     "name": "stdout",
     "output_type": "stream",
     "text": [
      " <<< Combine >>> \n",
      ">>> including systematics\n",
      ">>> using the Ratio of Profiled Likelihoods test statistics (Q_TEV)\n",
      ">>> method used is HybridNew\n",
      ">>> random number generator seed is 123456\n",
      "Computing results starting from observation (a-posteriori)\n",
      "[#0] WARNING:Eval -- RooStatsUtils::MakeNuisancePdf - no constraints found on nuisance parameters in the input model\n",
      "[#0] WARNING:Eval -- RooStatsUtils::MakeNuisancePdf - no constraints found on nuisance parameters in the input model\n",
      "/tmp/rstats-sN56hu\n",
      "\n",
      " -- Hybrid New -- \n",
      "CLs = 0.072 +/- 0.00536656\n",
      "Done in 0.00 min (cpu), 2.74 min (real)\n"
     ]
    },
    {
     "name": "stderr",
     "output_type": "stream",
     "text": [
      "ALERT: Tevatron test statistics not yet validated.\n"
     ]
    }
   ],
   "source": [
    "%%bash\n",
    "combine -M HybridNew -m 125.7 jcp_hww.root --testStat=TEV --singlePoint 1 --saveHybridResult -T 5000 --fork 8 --clsAcc 0 --fullBToys --generateExt=1 --generateNuis=0 --expectedFromGrid 0.5 -n jcp_hww_pre-fit_exp"
   ]
  },
  {
   "cell_type": "markdown",
   "metadata": {},
   "source": [
    "Second we do post-fit expected:"
   ]
  },
  {
   "cell_type": "code",
   "execution_count": 7,
   "metadata": {},
   "outputs": [
    {
     "name": "stdout",
     "output_type": "stream",
     "text": [
      " <<< Combine >>> \n",
      ">>> including systematics\n",
      ">>> using the Ratio of Profiled Likelihoods test statistics (Q_TEV)\n",
      ">>> method used is HybridNew\n",
      ">>> random number generator seed is 123456\n",
      "Computing results starting from observation (a-posteriori)\n",
      "[#0] WARNING:Eval -- RooStatsUtils::MakeNuisancePdf - no constraints found on nuisance parameters in the input model\n",
      "[#0] WARNING:Eval -- RooStatsUtils::MakeNuisancePdf - no constraints found on nuisance parameters in the input model\n",
      "/tmp/rstats-juxm9N\n",
      "\n",
      " -- Hybrid New -- \n",
      "CLs = 0.232193 +/- 0.00967306\n",
      "Done in 0.00 min (cpu), 1.94 min (real)\n"
     ]
    },
    {
     "name": "stderr",
     "output_type": "stream",
     "text": [
      "ALERT: Tevatron test statistics not yet validated.\n"
     ]
    }
   ],
   "source": [
    "%%bash\n",
    "combine -M HybridNew -m 125.7 jcp_hww.root --testStat=TEV --singlePoint 1 --saveHybridResult -T 5000 --fork 8 --clsAcc 0 --fullBToys --frequentist --expectedFromGrid 0.5 -n jcp_hww_post-fit_exp"
   ]
  },
  {
   "cell_type": "markdown",
   "metadata": {},
   "source": [
    "Finally we do postfit observed:"
   ]
  },
  {
   "cell_type": "code",
   "execution_count": 8,
   "metadata": {},
   "outputs": [
    {
     "name": "stdout",
     "output_type": "stream",
     "text": [
      " <<< Combine >>> \n",
      ">>> including systematics\n",
      ">>> using the Ratio of Profiled Likelihoods test statistics (Q_TEV)\n",
      ">>> method used is HybridNew\n",
      ">>> random number generator seed is 123456\n",
      "Computing results starting from observation (a-posteriori)\n",
      "[#0] WARNING:Eval -- RooStatsUtils::MakeNuisancePdf - no constraints found on nuisance parameters in the input model\n",
      "[#0] WARNING:Eval -- RooStatsUtils::MakeNuisancePdf - no constraints found on nuisance parameters in the input model\n",
      "/tmp/rstats-Vs5EiM\n",
      "\n",
      " -- Hybrid New -- \n",
      "CLs = 0.168814 +/- 0.010758\n",
      "Done in 0.00 min (cpu), 2.00 min (real)\n"
     ]
    },
    {
     "name": "stderr",
     "output_type": "stream",
     "text": [
      "ALERT: Tevatron test statistics not yet validated.\n"
     ]
    }
   ],
   "source": [
    "%%bash\n",
    "combine -M HybridNew -m 125.7 jcp_hww.root --testStat=TEV --singlePoint 1 --saveHybridResult -T 5000 --fork 8 --clsAcc 0 --fullBToys --frequentist -n jcp_hww_post-fit_obs"
   ]
  },
  {
   "cell_type": "markdown",
   "metadata": {},
   "source": [
    "First you will notice that the pre-fit expected and post fit expected cls values are different.  The difference between the post-fit expected and the pre-fit expected is related to fact that the data does not accommodate a large signal. We can check this also by performing fits for the signal strength for the two hypotheses: we create a workspace that has the signal strength as an additional parameter of interest, and then run fits for the signal strength r at a fixed value of the mixing x corresponding to the two hypotheses:"
   ]
  },
  {
   "cell_type": "code",
   "execution_count": 9,
   "metadata": {},
   "outputs": [
    {
     "name": "stdout",
     "output_type": "stream",
     "text": [
      " <<< Combine >>> \n",
      ">>> including systematics\n",
      ">>> method used is MultiDimFit\n",
      ">>> random number generator seed is 123456\n",
      "Set Default Value of Parameter x To : 0\n",
      "Computing results starting from observation (a-posteriori)\n",
      "\n",
      " --- MultiDimFit ---\n",
      "best fit parameter values: \n",
      "   r :    +0.673\n",
      "Done in 0.00 min (cpu), 0.00 min (real)\n",
      " <<< Combine >>> \n",
      ">>> including systematics\n",
      ">>> method used is MultiDimFit\n",
      ">>> random number generator seed is 123456\n",
      "Set Default Value of Parameter x To : 1\n",
      "Computing results starting from observation (a-posteriori)\n",
      "\n",
      " --- MultiDimFit ---\n",
      "best fit parameter values: \n",
      "   r :    +0.988\n",
      "Done in 0.00 min (cpu), 0.00 min (real)\n"
     ]
    }
   ],
   "source": [
    "%%bash\n",
    "combine jcp_hww.root -M MultiDimFit -m 125.7 --redefineSignalPOIs r -P r --floatOtherPOI=0 --setParameters x=0 --freezeParameters x -n MU_SCALAR\n",
    "combine jcp_hww.root -M MultiDimFit -m 125.7 --redefineSignalPOIs r -P r --floatOtherPOI=0 --setParameters x=1 --freezeParameters x -n MU_SPIN2"
   ]
  },
  {
   "cell_type": "markdown",
   "metadata": {},
   "source": [
    "This implies that our post-fit expectation for the signal yield is less than the SM Higgs prediction, especially for the spin 0 case, and consequently also our post-fit expectation for the separation between the two hypotheses is worse (with less events, it's harder to separate them)."
   ]
  },
  {
   "cell_type": "markdown",
   "metadata": {},
   "source": [
    "Lets look at the output of the post fit observed file. First convert the results to a tree:"
   ]
  },
  {
   "cell_type": "code",
   "execution_count": 10,
   "metadata": {},
   "outputs": [
    {
     "name": "stdout",
     "output_type": "stream",
     "text": [
      "\n",
      "Attaching file higgsCombinejcp_hww_post-fit_obs.HybridNew.mH125.7.root as _file0...\n",
      "(TFile *) 0x2fdb7f0\n",
      "Processing /home/cms.zdemirag/CombineTutorial/CMSSW_8_1_0/src/HiggsAnalysis/CombinedLimit/test/plotting/hypoTestResultTree.cxx(\"jcp_hww_post-fit_obs.qvals.root\",125.7,1,\"x\")...\n",
      " - HypoTestResult_mh125.7_x1_1618127706\n",
      "Saved test statistics distributions for 5000 signal toys and 5000 background toys to jcp_hww_post-fit_obs.qvals.root.\n"
     ]
    }
   ],
   "source": [
    "%%bash\n",
    "root -l -q -b higgsCombinejcp_hww_post-fit_obs.HybridNew.mH125.7.root ${CMSSW_BASE}/src/HiggsAnalysis/CombinedLimit/test/plotting/hypoTestResultTree.cxx\\(\\\"jcp_hww_post-fit_obs.qvals.root\\\",125.7,1,\\\"x\\\"\\)"
   ]
  },
  {
   "cell_type": "markdown",
   "metadata": {},
   "source": [
    "The type encodes which hypothesis the value of q corresponds to (observation has type zero, null is type -1 and alt is type 1). Now lets make a plot of the test statistic distributions in the observed case:"
   ]
  },
  {
   "cell_type": "code",
   "execution_count": 12,
   "metadata": {},
   "outputs": [
    {
     "name": "stdout",
     "output_type": "stream",
     "text": [
      "0.20343002677\n",
      "These Numbers Are just approximate and hard coded for this particular example!!!\n",
      "Use CLs from the combine printout for a precise value!\n",
      "p null 0.382382788715\n",
      "p alt 0.0685714285714\n",
      "cls 0.179326660601\n"
     ]
    },
    {
     "name": "stderr",
     "output_type": "stream",
     "text": [
      "TCanvas::Constructor:0: RuntimeWarning: Deleting canvas with same name: c1\n"
     ]
    },
    {
     "data": {
      "image/png": "[encoded data removed]",
      "text/plain": [
       "<IPython.core.display.Image object>"
      ]
     },
     "metadata": {},
     "output_type": "display_data"
    }
   ],
   "source": [
    "import ROOT as r\n",
    "\n",
    "r.gStyle.SetOptStat(0)\n",
    "r.gStyle.SetOptTitle(0)\n",
    "\n",
    "f = r.TFile(\"jcp_hww_post-fit_obs.qvals.root\",\"READ\")\n",
    "q = f.Get(\"q\")\n",
    "\n",
    "\n",
    "hnull = r.TH1F(\"hnull\",\"hnull\",50,-10,10)\n",
    "halt = r.TH1F(\"halt\",\"halt\",50,-10,10)\n",
    "\n",
    "#hobs = r.TH1F(\"hobs\",\"hobs\",50,-10,10)\n",
    "\n",
    "q.Draw(\"-2*q>>hnull\",\"type<0\",\"goff\")\n",
    "q.Draw(\"-2*q>>halt\", \"type>0\",\"goff\")\n",
    "\n",
    "q.Draw(\"-2*q>>hobs\", \"type==0\",\"goff\")\n",
    "qObs = r.gROOT.FindObject(\"hobs\").GetMean();\n",
    "qO = r.TArrow(qObs, hnull.GetMaximum(), qObs, 1, 0.05, \"---|>\");\n",
    "qO.SetAngle(40)\n",
    "qO.SetLineWidth(2)\n",
    "\n",
    "print qObs\n",
    "print \"These Numbers Are just approximate and hard coded for this particular example!!!\"\n",
    "print \"Use CLs from the combine printout for a precise value!\"\n",
    "print \"p null\",hnull.Integral(25,50)/hnull.Integral()\n",
    "print \"p alt\",halt.Integral(25,50)/halt.Integral()\n",
    "print \"cls\",(halt.Integral(25,50)/halt.Integral())/(hnull.Integral(25,50)/hnull.Integral())\n",
    "\n",
    "c1 = r.TCanvas(\"c1\",\"c1\",800,800)\n",
    "c1.cd()\n",
    "\n",
    "hnull.SetLineColor(r.kBlue)\n",
    "halt.SetLineColor(r.kOrange)\n",
    "halt.GetXaxis().SetTitle(\"q=-2 ln ( L_{2^{+}_{m}} / L_{0^{+}} ) \")\n",
    "\n",
    "halt.Draw()\n",
    "hnull.Draw(\"same\")\n",
    "#hobs.Draw(\"same\")\n",
    "qO.Draw()\n",
    "hnull.Draw(\"AxisSame\")\n",
    "\n",
    "\n",
    "legend = r.TLegend(0.55,0.6,0.85,0.85)\n",
    "legend.AddEntry(hnull,\"Expected for 0^{+}\",\"l\")\n",
    "legend.AddEntry(halt,\"Expected for 2^{+}_{m}\",\"l\")\n",
    "legend.AddEntry(qO,\"Observed\",\"l\")\n",
    "legend.Draw(\"same\")\n",
    "\n",
    "c1.Draw()"
   ]
  },
  {
   "cell_type": "code",
   "execution_count": null,
   "metadata": {},
   "outputs": [],
   "source": []
  }
 ],
 "metadata": {
  "kernelspec": {
   "display_name": "higgs-combine-tutorial",
   "language": "python",
   "name": "higgs-combine-tutorial"
  },
  "language_info": {
   "codemirror_mode": {
    "name": "ipython",
    "version": 2
   },
   "file_extension": ".py",
   "mimetype": "text/x-python",
   "name": "python",
   "nbconvert_exporter": "python",
   "pygments_lexer": "ipython2",
   "version": "2.7.11"
  }
 },
 "nbformat": 4,
 "nbformat_minor": 2
}
