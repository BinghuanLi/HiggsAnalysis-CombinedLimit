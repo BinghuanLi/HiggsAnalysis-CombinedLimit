{
 "cells": [
  {
   "cell_type": "markdown",
   "metadata": {},
   "source": [
    "## Create Histograms with parameteric bin contents"
   ]
  },
  {
   "cell_type": "markdown",
   "metadata": {},
   "source": [
    "Create workspace as input to combine"
   ]
  },
  {
   "cell_type": "code",
   "execution_count": 4,
   "metadata": {},
   "outputs": [],
   "source": [
    "import ROOT as r\n",
    "fOut = r.TFile(\"param_ws.root\",\"RECREATE\")\n",
    "wspace = r.RooWorkspace(\"wspace\",\"wspace\")\n",
    "wspace_import = getattr(wspace,\"import\")"
   ]
  },
  {
   "cell_type": "markdown",
   "metadata": {},
   "source": [
    " Make the RooRealVar variable as the observable for the search"
   ]
  },
  {
   "cell_type": "code",
   "execution_count": 6,
   "metadata": {},
   "outputs": [],
   "source": [
    "met = r.RooRealVar(\"met\",\"E_{T}^{miss}\",200,1000)\n",
    "plot = met.frame()"
   ]
  },
  {
   "cell_type": "markdown",
   "metadata": {},
   "source": [
    "# Signal region\n",
    "\n",
    "Make a data set for our signal region and import that into the workspace"
   ]
  },
  {
   "cell_type": "code",
   "execution_count": 8,
   "metadata": {},
   "outputs": [
    {
     "name": "stderr",
     "output_type": "stream",
     "text": [
      "TFile::Append:0: RuntimeWarning: Replacing existing TH1: data_obs_SR (Potential memory leak).\n"
     ]
    },
    {
     "data": {
      "text/plain": [
       "<ROOT.RooPlot object (\"frame_met_6b1b650\") at 0x6b1b650>"
      ]
     },
     "execution_count": 8,
     "metadata": {},
     "output_type": "execute_result"
    },
    {
     "name": "stdout",
     "output_type": "stream",
     "text": [
      "[#1] INFO:DataHandling -- RooDataHist::adjustBinning(data_obs_SR): fit range of variable met expanded to nearest bin boundaries: [200,1000] --> [200,1000]\r\n",
      "[#1] INFO:ObjectHandling -- RooWorkspace::import(wspace) importing dataset data_obs_SR\r\n",
      "[#1] INFO:ObjectHandling -- RooWorkspace::import(wspace) importing RooRealVar::met\r\n"
     ]
    }
   ],
   "source": [
    "data_th1 = r.TH1F(\"data_obs_SR\",\"Data observed in signal region\",4,200,1000)\n",
    "data_th1.SetBinContent(1,100)\n",
    "data_th1.SetBinContent(2,50)\n",
    "data_th1.SetBinContent(3,25)\n",
    "data_th1.SetBinContent(4,10)\n",
    "data_hist = r.RooDataHist(\"data_obs_SR\",\"Data observed\",r.RooArgList(met),data_th1)\n",
    "wspace_import(data_hist)\n",
    "data_hist.plotOn(plot)"
   ]
  },
  {
   "cell_type": "code",
   "execution_count": 9,
   "metadata": {},
   "outputs": [
    {
     "data": {
      "image/png": "[encoded data removed]",
      "text/plain": [
       "<IPython.core.display.Image object>"
      ]
     },
     "metadata": {},
     "output_type": "display_data"
    }
   ],
   "source": [
    "c = r.TCanvas()\n",
    "plot.Draw()\n",
    "c.Draw()"
   ]
  },
  {
   "cell_type": "markdown",
   "metadata": {},
   "source": [
    "Now create the parametric binned template for the background \n",
    "\n",
    "Each bin will have its own parameter representing the rate in that bin"
   ]
  },
  {
   "cell_type": "code",
   "execution_count": 10,
   "metadata": {},
   "outputs": [],
   "source": [
    "bin1 = r.RooRealVar(\"bkg_SR_bin1\",\"Background yield in signal region, bin 1\",100,0,500)\n",
    "bin2 = r.RooRealVar(\"bkg_SR_bin2\",\"Background yield in signal region, bin 2\",50,0,500)\n",
    "bin3 = r.RooRealVar(\"bkg_SR_bin3\",\"Background yield in signal region, bin 3\",25,0,500)\n",
    "bin4 = r.RooRealVar(\"bkg_SR_bin4\",\"Background yield in signal region, bin 4\",10,0,500)\n",
    "\n",
    "bkg_SR_bins = r.RooArgList()\n",
    "bkg_SR_bins.add(bin1)\n",
    "bkg_SR_bins.add(bin2)\n",
    "bkg_SR_bins.add(bin3)\n",
    "bkg_SR_bins.add(bin4)\n",
    "\n",
    "p_bkg = r.RooParametricHist(\"bkg_SR\", \"Background PDF in signal region\",met,bkg_SR_bins,data_th1)"
   ]
  },
  {
   "cell_type": "markdown",
   "metadata": {},
   "source": [
    "If we fit this to the data, we should get back the number of data in each bins as the MLEs "
   ]
  },
  {
   "cell_type": "code",
   "execution_count": 11,
   "metadata": {},
   "outputs": [
    {
     "data": {
      "image/png": "[encoded data removed]",
      "text/plain": [
       "<IPython.core.display.Image object>"
      ]
     },
     "metadata": {},
     "output_type": "display_data"
    },
    {
     "name": "stdout",
     "output_type": "stream",
     "text": [
      "[#1] INFO:Minization -- RooMinuit::optimizeConst: activating const optimization\r\n",
      " **********\r\n",
      " **   13 **MIGRAD        2000           1\r\n",
      " **********\r\n",
      " FIRST CALL TO USER FUNCTION AT NEW START POINT, WITH IFLAG=4.\r\n",
      " START MIGRAD MINIMIZATION.  STRATEGY  1.  CONVERGENCE WHEN EDM .LT. 1.00e-03\r\n",
      " FCN=1186.34 FROM MIGRAD    STATUS=INITIATE       16 CALLS          17 TOTAL\r\n",
      "                     EDM= unknown      STRATEGY= 1      NO ERROR MATRIX       \r\n",
      "  EXT PARAMETER               CURRENT GUESS       STEP         FIRST   \r\n",
      "  NO.   NAME      VALUE            ERROR          SIZE      DERIVATIVE \r\n",
      "   1  bkg_SR_bin1   1.00000e+02   5.00000e+01   2.57889e-01  -3.68986e-04\r\n",
      "   2  bkg_SR_bin2   5.00000e+01   2.50000e+01   1.72186e-01  -3.41591e-04\r\n",
      "   3  bkg_SR_bin3   2.50000e+01   1.25000e+01   1.18625e-01  -3.49142e-04\r\n",
      "   4  bkg_SR_bin4   1.00000e+01   5.00000e+00   7.39156e-02  -4.21714e-04\r\n",
      "                               ERR DEF= 0.5\r\n",
      " MIGRAD FAILS TO FIND IMPROVEMENT\r\n",
      " COVARIANCE MATRIX CALCULATED SUCCESSFULLY\r\n",
      " FCN=1186.34 FROM HESSE     STATUS=OK             31 CALLS          54 TOTAL\r\n",
      "                     EDM=5.90097e-11    STRATEGY= 1      ERROR MATRIX ACCURATE \r\n",
      "  EXT PARAMETER                                   STEP         FIRST   \r\n",
      "  NO.   NAME      VALUE            ERROR          SIZE      DERIVATIVE \r\n",
      "   1  bkg_SR_bin1   1.00000e+02   2.55794e+02   1.75476e-03  -5.91188e-07\r\n",
      "   2  bkg_SR_bin2   5.00000e+01   2.56329e+02   1.31277e-03  -5.47748e-07\r\n",
      "   3  bkg_SR_bin3   2.50000e+01   8.00401e+01   1.17370e-03  -5.59377e-07\r\n",
      "   4  bkg_SR_bin4   1.00000e+01   3.44987e+01   1.10496e-03  -1.68689e-05\r\n",
      "                               ERR DEF= 0.5\r\n",
      " MIGRAD FAILS TO FIND IMPROVEMENT\r\n",
      " MIGRAD MINIMIZATION HAS CONVERGED.\r\n",
      " FCN=1186.34 FROM MIGRAD    STATUS=CONVERGED      62 CALLS          63 TOTAL\r\n",
      "                     EDM=5.90097e-11    STRATEGY= 1      ERROR MATRIX ACCURATE \r\n",
      "  EXT PARAMETER                                   STEP         FIRST   \r\n",
      "  NO.   NAME      VALUE            ERROR          SIZE      DERIVATIVE \r\n",
      "   1  bkg_SR_bin1   1.00000e+02   2.55794e+02   0.00000e+00  -5.91188e-07\r\n",
      "   2  bkg_SR_bin2   5.00000e+01   2.56329e+02   0.00000e+00  -5.47748e-07\r\n",
      "   3  bkg_SR_bin3   2.50000e+01   8.00401e+01   0.00000e+00  -5.59377e-07\r\n",
      "   4  bkg_SR_bin4   1.00000e+01   3.44987e+01   0.00000e+00  -1.68689e-05\r\n",
      "                               ERR DEF= 0.5\r\n",
      " EXTERNAL ERROR MATRIX.    NDIM=  25    NPAR=  4    ERR DEF=0.5\r\n",
      "  1.289e+05  6.440e+04  3.222e+04  1.290e+04 \r\n",
      "  6.440e+04  3.224e+04  1.610e+04  6.448e+03 \r\n",
      "  3.222e+04  1.610e+04  8.081e+03  3.225e+03 \r\n",
      "  1.290e+04  6.448e+03  3.225e+03  1.301e+03 \r\n",
      " PARAMETER  CORRELATION COEFFICIENTS  \r\n",
      "       NO.  GLOBAL      1      2      3      4\r\n",
      "        1  0.99916   1.000  0.999  0.998  0.996\r\n",
      "        2  0.99894   0.999  1.000  0.998  0.995\r\n",
      "        3  0.99821   0.998  0.998  1.000  0.995\r\n",
      "        4  0.99593   0.996  0.995  0.995  1.000\r\n",
      " **********\r\n",
      " **   18 **HESSE        2000\r\n",
      " **********\r\n",
      " EIGENVALUES OF SECOND-DERIVATIVE MATRIX:\r\n",
      "        -1.1705e-05  1.0748e+00  1.2219e+00  1.7033e+00\r\n",
      " MINUIT WARNING IN HESSE   \r\n",
      " ============== MATRIX FORCED POS-DEF BY ADDING 0.001715 TO DIAGONAL.\r\n",
      " FCN=1186.34 FROM HESSE     STATUS=NOT POSDEF     31 CALLS          94 TOTAL\r\n",
      "                     EDM=8.83798e-14    STRATEGY= 1      ERR MATRIX NOT POS-DEF\r\n",
      "  EXT PARAMETER                APPROXIMATE     INTERNAL      INTERNAL  \r\n",
      "  NO.   NAME      VALUE            ERROR       STEP SIZE       VALUE   \r\n",
      "   1  bkg_SR_bin1   1.00000e+02   2.97237e+02   7.01904e-05  -6.43501e-01\r\n",
      "   2  bkg_SR_bin2   5.00000e+01   1.03230e+02   5.25109e-05  -9.27295e-01\r\n",
      "   3  bkg_SR_bin3   2.50000e+01   5.44557e+01   4.69480e-05  -1.11977e+00\r\n",
      "   4  bkg_SR_bin4   1.00000e+01   2.25339e+01   2.20992e-04  -1.28700e+00\r\n",
      "                               ERR DEF= 0.5\r\n",
      " EXTERNAL ERROR MATRIX.    NDIM=  25    NPAR=  4    ERR DEF=0.5\r\n",
      "  5.180e+04  2.584e+04  1.292e+04  5.167e+03 \r\n",
      "  2.584e+04  1.296e+04  6.455e+03  2.582e+03 \r\n",
      "  1.292e+04  6.455e+03  3.252e+03  1.291e+03 \r\n",
      "  5.167e+03  2.582e+03  1.291e+03  5.264e+02 \r\n",
      "ERR MATRIX NOT POS-DEF\r\n",
      " PARAMETER  CORRELATION COEFFICIENTS  \r\n",
      "       NO.  GLOBAL      1      2      3      4\r\n",
      "        1  0.99790   1.000  0.997  0.995  0.990\r\n",
      "        2  0.99736   0.997  1.000  0.994  0.989\r\n",
      "        3  0.99555   0.995  0.994  1.000  0.987\r\n",
      "        4  0.98992   0.990  0.989  0.987  1.000\r\n",
      " ERR MATRIX NOT POS-DEF\r\n",
      "[#1] INFO:Minization -- RooMinuit::optimizeConst: deactivating const optimization\r\n"
     ]
    }
   ],
   "source": [
    "p_bkg.fitTo(data_hist)\n",
    "p_bkg.plotOn(plot)\n",
    "c2 = r.TCanvas()\n",
    "plot.Draw()\n",
    "c2.Draw()"
   ]
  },
  {
   "cell_type": "markdown",
   "metadata": {},
   "source": [
    "# Control region"
   ]
  },
  {
   "cell_type": "code",
   "execution_count": 12,
   "metadata": {},
   "outputs": [
    {
     "data": {
      "text/plain": [
       "False"
      ]
     },
     "execution_count": 12,
     "metadata": {},
     "output_type": "execute_result"
    },
    {
     "name": "stdout",
     "output_type": "stream",
     "text": [
      "[#1] INFO:DataHandling -- RooDataHist::adjustBinning(data_obs_CR): fit range of variable met expanded to nearest bin boundaries: [200,1000] --> [200,1000]\r\n",
      "[#1] INFO:ObjectHandling -- RooWorkspace::import(wspace) importing dataset data_obs_CR\r\n"
     ]
    }
   ],
   "source": [
    "data_CRth1 = r.TH1F(\"data_obs_CR\",\"Data observed in control region\",4,200,1000)\n",
    "data_CRth1.SetBinContent(1,200)\n",
    "data_CRth1.SetBinContent(2,100)\n",
    "data_CRth1.SetBinContent(3,50)\n",
    "data_CRth1.SetBinContent(4,20)\n",
    "data_CRhist = r.RooDataHist(\"data_obs_CR\",\"Data observed\",r.RooArgList(met),data_CRth1)\n",
    "wspace_import(data_CRhist)"
   ]
  },
  {
   "cell_type": "markdown",
   "metadata": {},
   "source": [
    "This time the parameters for the histogram in the control region will be functions of those in the signal region"
   ]
  },
  {
   "cell_type": "code",
   "execution_count": 13,
   "metadata": {},
   "outputs": [],
   "source": [
    "TF = r.RooRealVar(\"TF\",\"Transfer factor\",2) \n",
    "TF.setConstant() \n",
    "\n",
    "me = r.RooRealVar(\"muon_eff\",\"Muon efficiency\",0,-4,4)\n",
    "\n",
    "CRbin1 = r.RooFormulaVar(\"bkg_CR_bin1\",\"Background yield in CR, bin 1\",\"@0*@1*(1+0.005*@2)\",r.RooArgList(TF,bin1,me))\n",
    "CRbin2 = r.RooFormulaVar(\"bkg_CR_bin2\",\"Background yield in CR, bin 2\",\"@0*@1*(1+0.01*@2)\",r.RooArgList(TF,bin2,me))\n",
    "CRbin3 = r.RooFormulaVar(\"bkg_CR_bin3\",\"Background yield in CR, bin 3\",\"@0*@1*(1+0.02*@2)\",r.RooArgList(TF,bin3,me))\n",
    "CRbin4 = r.RooFormulaVar(\"bkg_CR_bin4\",\"Background yield in CR, bin 4\",\"@0*@1*(1+0.04*@2)\",r.RooArgList(TF,bin4,me))\n",
    "  \n",
    "bkg_CR_bins = r.RooArgList()\n",
    "bkg_CR_bins.add(CRbin1)\n",
    "bkg_CR_bins.add(CRbin2)\n",
    "bkg_CR_bins.add(CRbin3)\n",
    "bkg_CR_bins.add(CRbin4)\n",
    "\n",
    "p_CRbkg = r.RooParametricHist(\"bkg_CR\", \"Background PDF in control region\",met,bkg_CR_bins,data_th1)"
   ]
  },
  {
   "cell_type": "markdown",
   "metadata": {},
   "source": [
    "Make the usual `_norm` parameters for the two RooParametricHists, this can just be the sum of bins"
   ]
  },
  {
   "cell_type": "code",
   "execution_count": 14,
   "metadata": {},
   "outputs": [
    {
     "data": {
      "text/plain": [
       "False"
      ]
     },
     "execution_count": 14,
     "metadata": {},
     "output_type": "execute_result"
    },
    {
     "name": "stdout",
     "output_type": "stream",
     "text": [
      "[#1] INFO:ObjectHandling -- RooWorkspace::import(wspace) importing RooParametricHist::bkg_SR\r\n",
      "[#1] INFO:ObjectHandling -- RooWorkspace::import(wspace) importing RooRealVar::bkg_SR_bin1\r\n",
      "[#1] INFO:ObjectHandling -- RooWorkspace::import(wspace) importing RooRealVar::bkg_SR_bin2\r\n",
      "[#1] INFO:ObjectHandling -- RooWorkspace::import(wspace) importing RooRealVar::bkg_SR_bin3\r\n",
      "[#1] INFO:ObjectHandling -- RooWorkspace::import(wspace) importing RooRealVar::bkg_SR_bin4\r\n",
      "[#1] INFO:ObjectHandling -- RooWorkspace::import(wspace) importing RooAddition::bkg_SR_norm\r\n",
      "[#1] INFO:ObjectHandling -- RooWorkspace::import(wspace) importing RooParametricHist::bkg_CR\r\n",
      "[#1] INFO:ObjectHandling -- RooWorkspace::import(wspace) importing RooFormulaVar::bkg_CR_bin1\r\n",
      "[#1] INFO:ObjectHandling -- RooWorkspace::import(wspace) importing RooRealVar::TF\r\n",
      "[#1] INFO:ObjectHandling -- RooWorkspace::import(wspace) importing RooRealVar::muon_eff\r\n",
      "[#1] INFO:ObjectHandling -- RooWorkspace::import(wspace) importing RooFormulaVar::bkg_CR_bin2\r\n",
      "[#1] INFO:ObjectHandling -- RooWorkspace::import(wspace) importing RooFormulaVar::bkg_CR_bin3\r\n",
      "[#1] INFO:ObjectHandling -- RooWorkspace::import(wspace) importing RooFormulaVar::bkg_CR_bin4\r\n",
      "[#1] INFO:ObjectHandling -- RooWorkspace::import(wspace) importing RooAddition::bkg_CR_norm\r\n",
      "[#1] INFO:ObjectHandling -- RooWorkspace::import(wspace) using existing copy of RooFormulaVar::bkg_CR_bin1 for import of RooAddition::bkg_CR_norm\r\n",
      "[#1] INFO:ObjectHandling -- RooWorkspace::import(wspace) using existing copy of RooRealVar::TF for import of RooAddition::bkg_CR_norm\r\n",
      "[#1] INFO:ObjectHandling -- RooWorkspace::import(wspace) using existing copy of RooRealVar::bkg_SR_bin1 for import of RooAddition::bkg_CR_norm\r\n",
      "[#1] INFO:ObjectHandling -- RooWorkspace::import(wspace) using existing copy of RooRealVar::muon_eff for import of RooAddition::bkg_CR_norm\r\n",
      "[#1] INFO:ObjectHandling -- RooWorkspace::import(wspace) using existing copy of RooFormulaVar::bkg_CR_bin2 for import of RooAddition::bkg_CR_norm\r\n",
      "[#1] INFO:ObjectHandling -- RooWorkspace::import(wspace) using existing copy of RooRealVar::bkg_SR_bin2 for import of RooAddition::bkg_CR_norm\r\n",
      "[#1] INFO:ObjectHandling -- RooWorkspace::import(wspace) using existing copy of RooFormulaVar::bkg_CR_bin3 for import of RooAddition::bkg_CR_norm\r\n",
      "[#1] INFO:ObjectHandling -- RooWorkspace::import(wspace) using existing copy of RooRealVar::bkg_SR_bin3 for import of RooAddition::bkg_CR_norm\r\n",
      "[#1] INFO:ObjectHandling -- RooWorkspace::import(wspace) using existing copy of RooFormulaVar::bkg_CR_bin4 for import of RooAddition::bkg_CR_norm\r\n",
      "[#1] INFO:ObjectHandling -- RooWorkspace::import(wspace) using existing copy of RooRealVar::bkg_SR_bin4 for import of RooAddition::bkg_CR_norm\r\n"
     ]
    }
   ],
   "source": [
    "p_bkg_norm = r.RooAddition(\"bkg_SR_norm\",\"Total Number of events from background in signal region\",bkg_SR_bins)\n",
    "p_CRbkg_norm = r.RooAddition(\"bkg_CR_norm\",\"Total Number of events from background in control region\",bkg_CR_bins)\n",
    "\n",
    "wspace_import(p_bkg)\n",
    "wspace_import(p_bkg_norm)\n",
    "\n",
    "wspace_import(p_CRbkg)\n",
    "wspace_import(p_CRbkg_norm,r.RooFit.RecycleConflictNodes())"
   ]
  },
  {
   "cell_type": "markdown",
   "metadata": {},
   "source": [
    "Finally, create a signal histogram template"
   ]
  },
  {
   "cell_type": "code",
   "execution_count": 15,
   "metadata": {},
   "outputs": [
    {
     "data": {
      "text/plain": [
       "False"
      ]
     },
     "execution_count": 15,
     "metadata": {},
     "output_type": "execute_result"
    },
    {
     "name": "stdout",
     "output_type": "stream",
     "text": [
      "[#1] INFO:DataHandling -- RooDataHist::adjustBinning(signal): fit range of variable met expanded to nearest bin boundaries: [200,1000] --> [200,1000]\r\n",
      "[#1] INFO:ObjectHandling -- RooWorkspace::import(wspace) importing dataset signal\r\n"
     ]
    }
   ],
   "source": [
    "signal_th1 = r.TH1F(\"signal_SR\",\"Signal expected in signal region\",4,200,1000)\n",
    "signal_th1.SetBinContent(1,1)\n",
    "signal_th1.SetBinContent(2,2)\n",
    "signal_th1.SetBinContent(3,3)\n",
    "signal_th1.SetBinContent(4,8)\n",
    "signal_hist = r.RooDataHist(\"signal\",\"Data observed\",r.RooArgList(met),signal_th1)\n",
    "wspace_import(signal_hist)"
   ]
  },
  {
   "cell_type": "code",
   "execution_count": 16,
   "metadata": {
    "scrolled": false
   },
   "outputs": [
    {
     "name": "stdout",
     "output_type": "stream",
     "text": [
      "\r\n",
      "RooWorkspace(wspace) wspace contents\r\n",
      "\r\n",
      "variables\r\n",
      "---------\r\n",
      "(TF,bkg_SR_bin1,bkg_SR_bin2,bkg_SR_bin3,bkg_SR_bin4,met,muon_eff)\r\n",
      "\r\n",
      "p.d.f.s\r\n",
      "-------\r\n",
      "RooParametricHist::bkg_CR[ observable=met _pars=(bkg_CR_bin1,bkg_CR_bin2,bkg_CR_bin3,bkg_CR_bin4) ] = 0.1\r\n",
      "RooParametricHist::bkg_SR[ observable=met _pars=(bkg_SR_bin1,bkg_SR_bin2,bkg_SR_bin3,bkg_SR_bin4) ] = 0.05\r\n",
      "\r\n",
      "functions\r\n",
      "--------\r\n",
      "RooFormulaVar::bkg_CR_bin1[ actualVars=(TF,bkg_SR_bin1,muon_eff) formula=\"@0*@1*(1+0.005*@2)\" ] = 200\r\n",
      "RooFormulaVar::bkg_CR_bin2[ actualVars=(TF,bkg_SR_bin2,muon_eff) formula=\"@0*@1*(1+0.01*@2)\" ] = 100\r\n",
      "RooFormulaVar::bkg_CR_bin3[ actualVars=(TF,bkg_SR_bin3,muon_eff) formula=\"@0*@1*(1+0.02*@2)\" ] = 50\r\n",
      "RooFormulaVar::bkg_CR_bin4[ actualVars=(TF,bkg_SR_bin4,muon_eff) formula=\"@0*@1*(1+0.04*@2)\" ] = 20\r\n",
      "RooAddition::bkg_CR_norm[ bkg_CR_bin1 + bkg_CR_bin2 + bkg_CR_bin3 + bkg_CR_bin4 ] = 370\r\n",
      "RooAddition::bkg_SR_norm[ bkg_SR_bin1 + bkg_SR_bin2 + bkg_SR_bin3 + bkg_SR_bin4 ] = 185\r\n",
      "\r\n",
      "datasets\r\n",
      "--------\r\n",
      "RooDataHist::data_obs_SR(met)\r\n",
      "RooDataHist::data_obs_CR(met)\r\n",
      "RooDataHist::signal(met)\r\n",
      "\r\n"
     ]
    }
   ],
   "source": [
    "wspace.Print(\"V\")"
   ]
  },
  {
   "cell_type": "code",
   "execution_count": 17,
   "metadata": {},
   "outputs": [],
   "source": [
    "fOut.WriteTObject(wspace)\n",
    "fOut.Close()"
   ]
  },
  {
   "cell_type": "code",
   "execution_count": null,
   "metadata": {
    "collapsed": true
   },
   "outputs": [],
   "source": []
  }
 ],
 "metadata": {
  "kernelspec": {
   "display_name": "higgs-combine-tutorial",
   "language": "python",
   "name": "higgs-combine-tutorial"
  },
  "language_info": {
   "codemirror_mode": {
    "name": "ipython",
    "version": 2
   },
   "file_extension": ".py",
   "mimetype": "text/x-python",
   "name": "python",
   "nbconvert_exporter": "python",
   "pygments_lexer": "ipython2",
   "version": "2.7.11"
  }
 },
 "nbformat": 4,
 "nbformat_minor": 1
}
